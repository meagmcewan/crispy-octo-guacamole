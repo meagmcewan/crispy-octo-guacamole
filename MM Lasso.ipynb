{
 "cells": [
  {
   "cell_type": "code",
   "execution_count": 2,
   "metadata": {},
   "outputs": [],
   "source": [
    "import pandas as pd\n",
    "import pandas\n",
    "from sklearn.model_selection import train_test_split\n",
    "from sklearn.linear_model import LassoLarsCV\n",
    "import matplotlib.pyplot as plt"
   ]
  },
  {
   "cell_type": "markdown",
   "metadata": {},
   "source": [
    "read data file with census data and sales"
   ]
  },
  {
   "cell_type": "code",
   "execution_count": 4,
   "metadata": {},
   "outputs": [],
   "source": [
    "alldata = pd.read_csv('finalmaster-ratios.csv')"
   ]
  },
  {
   "cell_type": "markdown",
   "metadata": {},
   "source": [
    "create a list of all predictor variables from table"
   ]
  },
  {
   "cell_type": "code",
   "execution_count": 5,
   "metadata": {},
   "outputs": [],
   "source": [
    "allvariablenames = list(alldata.columns.values)"
   ]
  },
  {
   "cell_type": "code",
   "execution_count": 6,
   "metadata": {},
   "outputs": [
    {
     "data": {
      "text/html": [
       "<div>\n",
       "<style scoped>\n",
       "    .dataframe tbody tr th:only-of-type {\n",
       "        vertical-align: middle;\n",
       "    }\n",
       "\n",
       "    .dataframe tbody tr th {\n",
       "        vertical-align: top;\n",
       "    }\n",
       "\n",
       "    .dataframe thead th {\n",
       "        text-align: right;\n",
       "    }\n",
       "</style>\n",
       "<table border=\"1\" class=\"dataframe\">\n",
       "  <thead>\n",
       "    <tr style=\"text-align: right;\">\n",
       "      <th></th>\n",
       "      <th># Purchases</th>\n",
       "      <th>B01001001</th>\n",
       "      <th>B01001002</th>\n",
       "      <th>B01001003</th>\n",
       "      <th>B01001004</th>\n",
       "      <th>B01001005</th>\n",
       "      <th>B01001006</th>\n",
       "      <th>B01001007</th>\n",
       "      <th>B01001008</th>\n",
       "      <th>B01001009</th>\n",
       "      <th>...</th>\n",
       "      <th>B19001008</th>\n",
       "      <th>B19001009</th>\n",
       "      <th>B19001010</th>\n",
       "      <th>B19001011</th>\n",
       "      <th>B19001012</th>\n",
       "      <th>B19001013</th>\n",
       "      <th>B19001014</th>\n",
       "      <th>B19001015</th>\n",
       "      <th>B19001016</th>\n",
       "      <th>B19001017</th>\n",
       "    </tr>\n",
       "  </thead>\n",
       "  <tbody>\n",
       "    <tr>\n",
       "      <th>0</th>\n",
       "      <td>22</td>\n",
       "      <td>206252</td>\n",
       "      <td>469.226965</td>\n",
       "      <td>31.432422</td>\n",
       "      <td>35.219052</td>\n",
       "      <td>33.628765</td>\n",
       "      <td>20.121017</td>\n",
       "      <td>12.610787</td>\n",
       "      <td>6.734480</td>\n",
       "      <td>6.225394</td>\n",
       "      <td>...</td>\n",
       "      <td>49.409690</td>\n",
       "      <td>53.306757</td>\n",
       "      <td>42.318307</td>\n",
       "      <td>83.167229</td>\n",
       "      <td>89.249208</td>\n",
       "      <td>102.141470</td>\n",
       "      <td>52.872330</td>\n",
       "      <td>36.440765</td>\n",
       "      <td>23.446284</td>\n",
       "      <td>21.197485</td>\n",
       "    </tr>\n",
       "    <tr>\n",
       "      <th>1</th>\n",
       "      <td>7</td>\n",
       "      <td>61399</td>\n",
       "      <td>486.538869</td>\n",
       "      <td>22.899396</td>\n",
       "      <td>21.531295</td>\n",
       "      <td>27.036271</td>\n",
       "      <td>16.808091</td>\n",
       "      <td>28.355511</td>\n",
       "      <td>18.192479</td>\n",
       "      <td>13.534422</td>\n",
       "      <td>...</td>\n",
       "      <td>59.231680</td>\n",
       "      <td>50.093078</td>\n",
       "      <td>40.700626</td>\n",
       "      <td>92.612963</td>\n",
       "      <td>117.363344</td>\n",
       "      <td>113.344051</td>\n",
       "      <td>75.774243</td>\n",
       "      <td>33.000508</td>\n",
       "      <td>33.169741</td>\n",
       "      <td>24.792689</td>\n",
       "    </tr>\n",
       "    <tr>\n",
       "      <th>2</th>\n",
       "      <td>3</td>\n",
       "      <td>73170</td>\n",
       "      <td>489.859232</td>\n",
       "      <td>28.905289</td>\n",
       "      <td>36.271696</td>\n",
       "      <td>28.235616</td>\n",
       "      <td>21.566216</td>\n",
       "      <td>12.218122</td>\n",
       "      <td>7.243406</td>\n",
       "      <td>7.380074</td>\n",
       "      <td>...</td>\n",
       "      <td>63.996993</td>\n",
       "      <td>47.322923</td>\n",
       "      <td>42.505211</td>\n",
       "      <td>70.420610</td>\n",
       "      <td>90.033143</td>\n",
       "      <td>98.677692</td>\n",
       "      <td>54.703249</td>\n",
       "      <td>20.125056</td>\n",
       "      <td>11.890525</td>\n",
       "      <td>16.537397</td>\n",
       "    </tr>\n",
       "    <tr>\n",
       "      <th>3</th>\n",
       "      <td>94</td>\n",
       "      <td>251724</td>\n",
       "      <td>505.585483</td>\n",
       "      <td>32.054949</td>\n",
       "      <td>31.757004</td>\n",
       "      <td>28.102207</td>\n",
       "      <td>18.651380</td>\n",
       "      <td>12.080692</td>\n",
       "      <td>7.035483</td>\n",
       "      <td>7.686991</td>\n",
       "      <td>...</td>\n",
       "      <td>54.790900</td>\n",
       "      <td>48.681562</td>\n",
       "      <td>43.873381</td>\n",
       "      <td>84.717507</td>\n",
       "      <td>112.204444</td>\n",
       "      <td>127.137252</td>\n",
       "      <td>83.019904</td>\n",
       "      <td>43.731067</td>\n",
       "      <td>38.851729</td>\n",
       "      <td>40.427349</td>\n",
       "    </tr>\n",
       "    <tr>\n",
       "      <th>4</th>\n",
       "      <td>0</td>\n",
       "      <td>37382</td>\n",
       "      <td>495.586111</td>\n",
       "      <td>25.413301</td>\n",
       "      <td>29.318924</td>\n",
       "      <td>26.162324</td>\n",
       "      <td>19.260607</td>\n",
       "      <td>12.893906</td>\n",
       "      <td>6.580707</td>\n",
       "      <td>7.062222</td>\n",
       "      <td>...</td>\n",
       "      <td>58.883378</td>\n",
       "      <td>51.761414</td>\n",
       "      <td>47.310187</td>\n",
       "      <td>81.902582</td>\n",
       "      <td>93.793717</td>\n",
       "      <td>130.103014</td>\n",
       "      <td>71.982704</td>\n",
       "      <td>36.118530</td>\n",
       "      <td>31.603714</td>\n",
       "      <td>19.648989</td>\n",
       "    </tr>\n",
       "  </tbody>\n",
       "</table>\n",
       "<p>5 rows × 190 columns</p>\n",
       "</div>"
      ],
      "text/plain": [
       "   # Purchases  B01001001   B01001002  B01001003  B01001004  B01001005  \\\n",
       "0           22     206252  469.226965  31.432422  35.219052  33.628765   \n",
       "1            7      61399  486.538869  22.899396  21.531295  27.036271   \n",
       "2            3      73170  489.859232  28.905289  36.271696  28.235616   \n",
       "3           94     251724  505.585483  32.054949  31.757004  28.102207   \n",
       "4            0      37382  495.586111  25.413301  29.318924  26.162324   \n",
       "\n",
       "   B01001006  B01001007  B01001008  B01001009  ...  B19001008  B19001009  \\\n",
       "0  20.121017  12.610787   6.734480   6.225394  ...  49.409690  53.306757   \n",
       "1  16.808091  28.355511  18.192479  13.534422  ...  59.231680  50.093078   \n",
       "2  21.566216  12.218122   7.243406   7.380074  ...  63.996993  47.322923   \n",
       "3  18.651380  12.080692   7.035483   7.686991  ...  54.790900  48.681562   \n",
       "4  19.260607  12.893906   6.580707   7.062222  ...  58.883378  51.761414   \n",
       "\n",
       "   B19001010  B19001011   B19001012   B19001013  B19001014  B19001015  \\\n",
       "0  42.318307  83.167229   89.249208  102.141470  52.872330  36.440765   \n",
       "1  40.700626  92.612963  117.363344  113.344051  75.774243  33.000508   \n",
       "2  42.505211  70.420610   90.033143   98.677692  54.703249  20.125056   \n",
       "3  43.873381  84.717507  112.204444  127.137252  83.019904  43.731067   \n",
       "4  47.310187  81.902582   93.793717  130.103014  71.982704  36.118530   \n",
       "\n",
       "   B19001016  B19001017  \n",
       "0  23.446284  21.197485  \n",
       "1  33.169741  24.792689  \n",
       "2  11.890525  16.537397  \n",
       "3  38.851729  40.427349  \n",
       "4  31.603714  19.648989  \n",
       "\n",
       "[5 rows x 190 columns]"
      ]
     },
     "execution_count": 6,
     "metadata": {},
     "output_type": "execute_result"
    }
   ],
   "source": [
    "alldata.head()"
   ]
  },
  {
   "cell_type": "markdown",
   "metadata": {},
   "source": [
    "Remove first 8 elements of the list (first is the target, and next 7 are duplicative"
   ]
  },
  {
   "cell_type": "code",
   "execution_count": 10,
   "metadata": {},
   "outputs": [],
   "source": [
    "del allvariablenames[:8]"
   ]
  },
  {
   "cell_type": "code",
   "execution_count": 13,
   "metadata": {},
   "outputs": [],
   "source": [
    "#load predictors into dataframe\n",
    "predictors = alldata[allvariablenames]  \n",
    "\n",
    "#load target into dataframe\n",
    "target = alldata['# Purchases'] "
   ]
  },
  {
   "cell_type": "code",
   "execution_count": 14,
   "metadata": {},
   "outputs": [],
   "source": [
    "# split data into train and test sets, with 30% retained for test\n",
    "\n",
    "pred_train, pred_test, tar_train, tar_test = train_test_split(predictors, target, test_size=.3, random_state=123)"
   ]
  },
  {
   "cell_type": "markdown",
   "metadata": {},
   "source": [
    "use precompute = false and cv = 10 as parameters for LassoLarsCV and fit to training data"
   ]
  },
  {
   "cell_type": "markdown",
   "metadata": {},
   "source": [
    "model = LassoLarsCV(precompute=False, cv=10).fit(pred_train, tar_train)"
   ]
  },
  {
   "cell_type": "markdown",
   "metadata": {},
   "source": [
    "get all variables that have a coefficient greater than 0"
   ]
  },
  {
   "cell_type": "code",
   "execution_count": 34,
   "metadata": {},
   "outputs": [
    {
     "name": "stdout",
     "output_type": "stream",
     "text": [
      "['B01001036' 2.7861365955132498]\n",
      "['B01001037' 0.9200572652790084]\n",
      "['B01001038' 0.9459340522644347]\n",
      "['B02001005' 0.3915680921615554]\n",
      "['B13014026' 0.2205616415845189]\n",
      "['B13014027' 0.05049787197081061]\n",
      "['B19001017' 1.6062678580473926]\n"
     ]
    }
   ],
   "source": [
    "#build coefficent chart\n",
    "\n",
    "predictors_model=pd.DataFrame(allvariablenames)\n",
    "predictors_model.columns = ['label']\n",
    "predictors_model['coeff'] = model.coef_\n",
    "\n",
    "for index, row in predictors_model.iterrows():\n",
    "    if row['coeff'] > 0:\n",
    "        print(row.values)"
   ]
  },
  {
   "cell_type": "code",
   "execution_count": 36,
   "metadata": {},
   "outputs": [
    {
     "name": "stdout",
     "output_type": "stream",
     "text": [
      "training data R-square\n",
      "0.22266652028942102\n"
     ]
    }
   ],
   "source": [
    "# find r-square value for the training data\n",
    "\n",
    "rsquared_train=model.score(pred_train,tar_train)\n",
    "print ('training data R-square')\n",
    "print(rsquared_train)"
   ]
  },
  {
   "cell_type": "code",
   "execution_count": 37,
   "metadata": {},
   "outputs": [
    {
     "name": "stdout",
     "output_type": "stream",
     "text": [
      "y interecept:\n",
      "2.758738710322376\n"
     ]
    }
   ],
   "source": [
    "# find y-intercept\n",
    "\n",
    "print(\"y interecept:\")\n",
    "print(model.intercept_)"
   ]
  }
 ],
 "metadata": {
  "kernelspec": {
   "display_name": "Python 3",
   "language": "python",
   "name": "python3"
  },
  "language_info": {
   "codemirror_mode": {
    "name": "ipython",
    "version": 3
   },
   "file_extension": ".py",
   "mimetype": "text/x-python",
   "name": "python",
   "nbconvert_exporter": "python",
   "pygments_lexer": "ipython3",
   "version": "3.7.3"
  }
 },
 "nbformat": 4,
 "nbformat_minor": 2
}
